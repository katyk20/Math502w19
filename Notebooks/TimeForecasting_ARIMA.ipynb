{
  "nbformat": 4,
  "nbformat_minor": 0,
  "metadata": {
    "colab": {
      "provenance": [],
      "authorship_tag": "ABX9TyP1uqZEcqp43VHT2GJQCgU/",
      "include_colab_link": true
    },
    "kernelspec": {
      "name": "python3",
      "display_name": "Python 3"
    },
    "language_info": {
      "name": "python"
    }
  },
  "cells": [
    {
      "cell_type": "markdown",
      "metadata": {
        "id": "view-in-github",
        "colab_type": "text"
      },
      "source": [
        "<a href=\"https://colab.research.google.com/github/katyk20/Math502w19/blob/master/Notebooks/TimeForecasting_ARIMA.ipynb\" target=\"_parent\"><img src=\"https://colab.research.google.com/assets/colab-badge.svg\" alt=\"Open In Colab\"/></a>"
      ]
    },
    {
      "cell_type": "code",
      "execution_count": 1,
      "metadata": {
        "id": "cxGiB5RMKSfp",
        "colab": {
          "base_uri": "https://localhost:8080/"
        },
        "outputId": "ea3ab1d9-f245-43e6-fb53-95cc75809bb5"
      },
      "outputs": [
        {
          "output_type": "stream",
          "name": "stdout",
          "text": [
            "Drive already mounted at /content/drive; to attempt to forcibly remount, call drive.mount(\"/content/drive\", force_remount=True).\n"
          ]
        }
      ],
      "source": [
        "from google.colab import drive\n",
        "drive.mount('/content/drive')"
      ]
    },
    {
      "cell_type": "code",
      "source": [
        "! git clone https://github.com/katyk20/distance-education-highered"
      ],
      "metadata": {
        "id": "GoMHmin_Kkd3",
        "colab": {
          "base_uri": "https://localhost:8080/"
        },
        "outputId": "fd53770c-852a-4010-a7cc-b64c81b7ce04"
      },
      "execution_count": 136,
      "outputs": [
        {
          "output_type": "stream",
          "name": "stdout",
          "text": [
            "Cloning into 'distance-education-highered'...\n",
            "remote: Enumerating objects: 106, done.\u001b[K\n",
            "remote: Counting objects: 100% (106/106), done.\u001b[K\n",
            "remote: Compressing objects: 100% (95/95), done.\u001b[K\n",
            "remote: Total 106 (delta 51), reused 22 (delta 7), pack-reused 0\u001b[K\n",
            "Receiving objects: 100% (106/106), 1.45 MiB | 4.53 MiB/s, done.\n",
            "Resolving deltas: 100% (51/51), done.\n"
          ]
        }
      ]
    },
    {
      "cell_type": "code",
      "source": [
        "%cd /content/distance-education-highered\n",
        "!git pull"
      ],
      "metadata": {
        "id": "p_LrW_uPKq1x"
      },
      "execution_count": 3,
      "outputs": []
    },
    {
      "cell_type": "code",
      "source": [
        "# !pip install pmdarima"
      ],
      "metadata": {
        "id": "w09yvzLR0pXz"
      },
      "execution_count": 4,
      "outputs": []
    },
    {
      "cell_type": "code",
      "source": [
        "import pandas as pd\n",
        "import numpy as np\n",
        "import matplotlib.pyplot as plt\n",
        "from sklearn.model_selection import train_test_split\n",
        "from sklearn.linear_model import LinearRegression\n",
        "from sklearn.preprocessing import PolynomialFeatures\n",
        "from sklearn.metrics import mean_squared_error, mean_absolute_error\n",
        "from sklearn.model_selection import learning_curve\n",
        "from sklearn.model_selection import KFold\n",
        "from sklearn.model_selection import TimeSeriesSplit\n",
        "from sklearn.ensemble import RandomForestRegressor\n",
        "from statsmodels.tsa.arima.model import ARIMA\n",
        "from statsmodels.tsa.stattools import adfuller\n",
        "from sklearn.metrics import mean_squared_error\n",
        "from pmdarima.arima import auto_arima\n",
        "from statsmodels.tsa.statespace.sarimax import SARIMAX"
      ],
      "metadata": {
        "id": "F-rislY9KaTc"
      },
      "execution_count": 49,
      "outputs": []
    },
    {
      "cell_type": "code",
      "source": [],
      "metadata": {
        "id": "w3Z6yLqezQtG"
      },
      "execution_count": 5,
      "outputs": []
    },
    {
      "cell_type": "markdown",
      "source": [
        "#Datasets for modeling\n",
        "Univariate dataset of distance education enrollment by institution"
      ],
      "metadata": {
        "id": "T9yTWRf1Wq7T"
      }
    },
    {
      "cell_type": "code",
      "source": [
        "#read in distance enrollment dataset = dist_enrollment_1822 (all years)\n",
        "enrolled = pd.read_csv('/content/drive/MyDrive/Capstone_Winter2024/PROJECT DATASETS/dist_enrollment18_22.csv')"
      ],
      "metadata": {
        "id": "THc8GyIpK1jh"
      },
      "execution_count": 6,
      "outputs": []
    },
    {
      "cell_type": "code",
      "source": [
        "enrolled.head()"
      ],
      "metadata": {
        "id": "AwobvL9TLE0B",
        "colab": {
          "base_uri": "https://localhost:8080/",
          "height": 429
        },
        "outputId": "f04d14d9-1167-4278-ecbd-6269f9c466c2"
      },
      "execution_count": 7,
      "outputs": [
        {
          "output_type": "execute_result",
          "data": {
            "text/plain": [
              "   UNITID                    INSTNM  YEAR IALIAS STABBR  OBEREG  ICLEVEL  \\\n",
              "0  100654  Alabama A & M University  2018   AAMU     AL       5        1   \n",
              "1  100654  Alabama A & M University  2018   AAMU     AL       5        1   \n",
              "2  100654  Alabama A & M University  2018   AAMU     AL       5        1   \n",
              "3  100654  Alabama A & M University  2018   AAMU     AL       5        1   \n",
              "4  100654  Alabama A & M University  2018   AAMU     AL       5        1   \n",
              "\n",
              "   CONTROL  DEGGRANT   LONGITUD  ...  EFDELEV  EFDETOT  EFDEEXC  EFDESOM  \\\n",
              "0        1         1 -86.568502  ...        1     6106      120     1089   \n",
              "1        1         1 -86.568502  ...        2     5143       76      899   \n",
              "2        1         1 -86.568502  ...        3     4990       75      894   \n",
              "3        1         1 -86.568502  ...       11      153        1        5   \n",
              "4        1         1 -86.568502  ...       12      963       44      190   \n",
              "\n",
              "   EFDENON  EFDEEX1  EFDEEX2  EFDEEX3  EFDEEX4  EFDEEX5   \n",
              "0     4897     87.0     16.0     17.0      0.0       0.0  \n",
              "1     4168     56.0     14.0      6.0      0.0       0.0  \n",
              "2     4021     55.0     14.0      6.0      0.0       0.0  \n",
              "3      147      1.0      0.0      0.0      0.0       0.0  \n",
              "4      729     31.0      2.0     11.0      0.0       0.0  \n",
              "\n",
              "[5 rows x 21 columns]"
            ],
            "text/html": [
              "\n",
              "  <div id=\"df-1edb70db-d627-48b2-abf8-2bd3c0b82625\" class=\"colab-df-container\">\n",
              "    <div>\n",
              "<style scoped>\n",
              "    .dataframe tbody tr th:only-of-type {\n",
              "        vertical-align: middle;\n",
              "    }\n",
              "\n",
              "    .dataframe tbody tr th {\n",
              "        vertical-align: top;\n",
              "    }\n",
              "\n",
              "    .dataframe thead th {\n",
              "        text-align: right;\n",
              "    }\n",
              "</style>\n",
              "<table border=\"1\" class=\"dataframe\">\n",
              "  <thead>\n",
              "    <tr style=\"text-align: right;\">\n",
              "      <th></th>\n",
              "      <th>UNITID</th>\n",
              "      <th>INSTNM</th>\n",
              "      <th>YEAR</th>\n",
              "      <th>IALIAS</th>\n",
              "      <th>STABBR</th>\n",
              "      <th>OBEREG</th>\n",
              "      <th>ICLEVEL</th>\n",
              "      <th>CONTROL</th>\n",
              "      <th>DEGGRANT</th>\n",
              "      <th>LONGITUD</th>\n",
              "      <th>...</th>\n",
              "      <th>EFDELEV</th>\n",
              "      <th>EFDETOT</th>\n",
              "      <th>EFDEEXC</th>\n",
              "      <th>EFDESOM</th>\n",
              "      <th>EFDENON</th>\n",
              "      <th>EFDEEX1</th>\n",
              "      <th>EFDEEX2</th>\n",
              "      <th>EFDEEX3</th>\n",
              "      <th>EFDEEX4</th>\n",
              "      <th>EFDEEX5</th>\n",
              "    </tr>\n",
              "  </thead>\n",
              "  <tbody>\n",
              "    <tr>\n",
              "      <th>0</th>\n",
              "      <td>100654</td>\n",
              "      <td>Alabama A &amp; M University</td>\n",
              "      <td>2018</td>\n",
              "      <td>AAMU</td>\n",
              "      <td>AL</td>\n",
              "      <td>5</td>\n",
              "      <td>1</td>\n",
              "      <td>1</td>\n",
              "      <td>1</td>\n",
              "      <td>-86.568502</td>\n",
              "      <td>...</td>\n",
              "      <td>1</td>\n",
              "      <td>6106</td>\n",
              "      <td>120</td>\n",
              "      <td>1089</td>\n",
              "      <td>4897</td>\n",
              "      <td>87.0</td>\n",
              "      <td>16.0</td>\n",
              "      <td>17.0</td>\n",
              "      <td>0.0</td>\n",
              "      <td>0.0</td>\n",
              "    </tr>\n",
              "    <tr>\n",
              "      <th>1</th>\n",
              "      <td>100654</td>\n",
              "      <td>Alabama A &amp; M University</td>\n",
              "      <td>2018</td>\n",
              "      <td>AAMU</td>\n",
              "      <td>AL</td>\n",
              "      <td>5</td>\n",
              "      <td>1</td>\n",
              "      <td>1</td>\n",
              "      <td>1</td>\n",
              "      <td>-86.568502</td>\n",
              "      <td>...</td>\n",
              "      <td>2</td>\n",
              "      <td>5143</td>\n",
              "      <td>76</td>\n",
              "      <td>899</td>\n",
              "      <td>4168</td>\n",
              "      <td>56.0</td>\n",
              "      <td>14.0</td>\n",
              "      <td>6.0</td>\n",
              "      <td>0.0</td>\n",
              "      <td>0.0</td>\n",
              "    </tr>\n",
              "    <tr>\n",
              "      <th>2</th>\n",
              "      <td>100654</td>\n",
              "      <td>Alabama A &amp; M University</td>\n",
              "      <td>2018</td>\n",
              "      <td>AAMU</td>\n",
              "      <td>AL</td>\n",
              "      <td>5</td>\n",
              "      <td>1</td>\n",
              "      <td>1</td>\n",
              "      <td>1</td>\n",
              "      <td>-86.568502</td>\n",
              "      <td>...</td>\n",
              "      <td>3</td>\n",
              "      <td>4990</td>\n",
              "      <td>75</td>\n",
              "      <td>894</td>\n",
              "      <td>4021</td>\n",
              "      <td>55.0</td>\n",
              "      <td>14.0</td>\n",
              "      <td>6.0</td>\n",
              "      <td>0.0</td>\n",
              "      <td>0.0</td>\n",
              "    </tr>\n",
              "    <tr>\n",
              "      <th>3</th>\n",
              "      <td>100654</td>\n",
              "      <td>Alabama A &amp; M University</td>\n",
              "      <td>2018</td>\n",
              "      <td>AAMU</td>\n",
              "      <td>AL</td>\n",
              "      <td>5</td>\n",
              "      <td>1</td>\n",
              "      <td>1</td>\n",
              "      <td>1</td>\n",
              "      <td>-86.568502</td>\n",
              "      <td>...</td>\n",
              "      <td>11</td>\n",
              "      <td>153</td>\n",
              "      <td>1</td>\n",
              "      <td>5</td>\n",
              "      <td>147</td>\n",
              "      <td>1.0</td>\n",
              "      <td>0.0</td>\n",
              "      <td>0.0</td>\n",
              "      <td>0.0</td>\n",
              "      <td>0.0</td>\n",
              "    </tr>\n",
              "    <tr>\n",
              "      <th>4</th>\n",
              "      <td>100654</td>\n",
              "      <td>Alabama A &amp; M University</td>\n",
              "      <td>2018</td>\n",
              "      <td>AAMU</td>\n",
              "      <td>AL</td>\n",
              "      <td>5</td>\n",
              "      <td>1</td>\n",
              "      <td>1</td>\n",
              "      <td>1</td>\n",
              "      <td>-86.568502</td>\n",
              "      <td>...</td>\n",
              "      <td>12</td>\n",
              "      <td>963</td>\n",
              "      <td>44</td>\n",
              "      <td>190</td>\n",
              "      <td>729</td>\n",
              "      <td>31.0</td>\n",
              "      <td>2.0</td>\n",
              "      <td>11.0</td>\n",
              "      <td>0.0</td>\n",
              "      <td>0.0</td>\n",
              "    </tr>\n",
              "  </tbody>\n",
              "</table>\n",
              "<p>5 rows × 21 columns</p>\n",
              "</div>\n",
              "    <div class=\"colab-df-buttons\">\n",
              "\n",
              "  <div class=\"colab-df-container\">\n",
              "    <button class=\"colab-df-convert\" onclick=\"convertToInteractive('df-1edb70db-d627-48b2-abf8-2bd3c0b82625')\"\n",
              "            title=\"Convert this dataframe to an interactive table.\"\n",
              "            style=\"display:none;\">\n",
              "\n",
              "  <svg xmlns=\"http://www.w3.org/2000/svg\" height=\"24px\" viewBox=\"0 -960 960 960\">\n",
              "    <path d=\"M120-120v-720h720v720H120Zm60-500h600v-160H180v160Zm220 220h160v-160H400v160Zm0 220h160v-160H400v160ZM180-400h160v-160H180v160Zm440 0h160v-160H620v160ZM180-180h160v-160H180v160Zm440 0h160v-160H620v160Z\"/>\n",
              "  </svg>\n",
              "    </button>\n",
              "\n",
              "  <style>\n",
              "    .colab-df-container {\n",
              "      display:flex;\n",
              "      gap: 12px;\n",
              "    }\n",
              "\n",
              "    .colab-df-convert {\n",
              "      background-color: #E8F0FE;\n",
              "      border: none;\n",
              "      border-radius: 50%;\n",
              "      cursor: pointer;\n",
              "      display: none;\n",
              "      fill: #1967D2;\n",
              "      height: 32px;\n",
              "      padding: 0 0 0 0;\n",
              "      width: 32px;\n",
              "    }\n",
              "\n",
              "    .colab-df-convert:hover {\n",
              "      background-color: #E2EBFA;\n",
              "      box-shadow: 0px 1px 2px rgba(60, 64, 67, 0.3), 0px 1px 3px 1px rgba(60, 64, 67, 0.15);\n",
              "      fill: #174EA6;\n",
              "    }\n",
              "\n",
              "    .colab-df-buttons div {\n",
              "      margin-bottom: 4px;\n",
              "    }\n",
              "\n",
              "    [theme=dark] .colab-df-convert {\n",
              "      background-color: #3B4455;\n",
              "      fill: #D2E3FC;\n",
              "    }\n",
              "\n",
              "    [theme=dark] .colab-df-convert:hover {\n",
              "      background-color: #434B5C;\n",
              "      box-shadow: 0px 1px 3px 1px rgba(0, 0, 0, 0.15);\n",
              "      filter: drop-shadow(0px 1px 2px rgba(0, 0, 0, 0.3));\n",
              "      fill: #FFFFFF;\n",
              "    }\n",
              "  </style>\n",
              "\n",
              "    <script>\n",
              "      const buttonEl =\n",
              "        document.querySelector('#df-1edb70db-d627-48b2-abf8-2bd3c0b82625 button.colab-df-convert');\n",
              "      buttonEl.style.display =\n",
              "        google.colab.kernel.accessAllowed ? 'block' : 'none';\n",
              "\n",
              "      async function convertToInteractive(key) {\n",
              "        const element = document.querySelector('#df-1edb70db-d627-48b2-abf8-2bd3c0b82625');\n",
              "        const dataTable =\n",
              "          await google.colab.kernel.invokeFunction('convertToInteractive',\n",
              "                                                    [key], {});\n",
              "        if (!dataTable) return;\n",
              "\n",
              "        const docLinkHtml = 'Like what you see? Visit the ' +\n",
              "          '<a target=\"_blank\" href=https://colab.research.google.com/notebooks/data_table.ipynb>data table notebook</a>'\n",
              "          + ' to learn more about interactive tables.';\n",
              "        element.innerHTML = '';\n",
              "        dataTable['output_type'] = 'display_data';\n",
              "        await google.colab.output.renderOutput(dataTable, element);\n",
              "        const docLink = document.createElement('div');\n",
              "        docLink.innerHTML = docLinkHtml;\n",
              "        element.appendChild(docLink);\n",
              "      }\n",
              "    </script>\n",
              "  </div>\n",
              "\n",
              "\n",
              "<div id=\"df-f94922a7-b700-4b6e-a532-1fbe84f2fe79\">\n",
              "  <button class=\"colab-df-quickchart\" onclick=\"quickchart('df-f94922a7-b700-4b6e-a532-1fbe84f2fe79')\"\n",
              "            title=\"Suggest charts\"\n",
              "            style=\"display:none;\">\n",
              "\n",
              "<svg xmlns=\"http://www.w3.org/2000/svg\" height=\"24px\"viewBox=\"0 0 24 24\"\n",
              "     width=\"24px\">\n",
              "    <g>\n",
              "        <path d=\"M19 3H5c-1.1 0-2 .9-2 2v14c0 1.1.9 2 2 2h14c1.1 0 2-.9 2-2V5c0-1.1-.9-2-2-2zM9 17H7v-7h2v7zm4 0h-2V7h2v10zm4 0h-2v-4h2v4z\"/>\n",
              "    </g>\n",
              "</svg>\n",
              "  </button>\n",
              "\n",
              "<style>\n",
              "  .colab-df-quickchart {\n",
              "      --bg-color: #E8F0FE;\n",
              "      --fill-color: #1967D2;\n",
              "      --hover-bg-color: #E2EBFA;\n",
              "      --hover-fill-color: #174EA6;\n",
              "      --disabled-fill-color: #AAA;\n",
              "      --disabled-bg-color: #DDD;\n",
              "  }\n",
              "\n",
              "  [theme=dark] .colab-df-quickchart {\n",
              "      --bg-color: #3B4455;\n",
              "      --fill-color: #D2E3FC;\n",
              "      --hover-bg-color: #434B5C;\n",
              "      --hover-fill-color: #FFFFFF;\n",
              "      --disabled-bg-color: #3B4455;\n",
              "      --disabled-fill-color: #666;\n",
              "  }\n",
              "\n",
              "  .colab-df-quickchart {\n",
              "    background-color: var(--bg-color);\n",
              "    border: none;\n",
              "    border-radius: 50%;\n",
              "    cursor: pointer;\n",
              "    display: none;\n",
              "    fill: var(--fill-color);\n",
              "    height: 32px;\n",
              "    padding: 0;\n",
              "    width: 32px;\n",
              "  }\n",
              "\n",
              "  .colab-df-quickchart:hover {\n",
              "    background-color: var(--hover-bg-color);\n",
              "    box-shadow: 0 1px 2px rgba(60, 64, 67, 0.3), 0 1px 3px 1px rgba(60, 64, 67, 0.15);\n",
              "    fill: var(--button-hover-fill-color);\n",
              "  }\n",
              "\n",
              "  .colab-df-quickchart-complete:disabled,\n",
              "  .colab-df-quickchart-complete:disabled:hover {\n",
              "    background-color: var(--disabled-bg-color);\n",
              "    fill: var(--disabled-fill-color);\n",
              "    box-shadow: none;\n",
              "  }\n",
              "\n",
              "  .colab-df-spinner {\n",
              "    border: 2px solid var(--fill-color);\n",
              "    border-color: transparent;\n",
              "    border-bottom-color: var(--fill-color);\n",
              "    animation:\n",
              "      spin 1s steps(1) infinite;\n",
              "  }\n",
              "\n",
              "  @keyframes spin {\n",
              "    0% {\n",
              "      border-color: transparent;\n",
              "      border-bottom-color: var(--fill-color);\n",
              "      border-left-color: var(--fill-color);\n",
              "    }\n",
              "    20% {\n",
              "      border-color: transparent;\n",
              "      border-left-color: var(--fill-color);\n",
              "      border-top-color: var(--fill-color);\n",
              "    }\n",
              "    30% {\n",
              "      border-color: transparent;\n",
              "      border-left-color: var(--fill-color);\n",
              "      border-top-color: var(--fill-color);\n",
              "      border-right-color: var(--fill-color);\n",
              "    }\n",
              "    40% {\n",
              "      border-color: transparent;\n",
              "      border-right-color: var(--fill-color);\n",
              "      border-top-color: var(--fill-color);\n",
              "    }\n",
              "    60% {\n",
              "      border-color: transparent;\n",
              "      border-right-color: var(--fill-color);\n",
              "    }\n",
              "    80% {\n",
              "      border-color: transparent;\n",
              "      border-right-color: var(--fill-color);\n",
              "      border-bottom-color: var(--fill-color);\n",
              "    }\n",
              "    90% {\n",
              "      border-color: transparent;\n",
              "      border-bottom-color: var(--fill-color);\n",
              "    }\n",
              "  }\n",
              "</style>\n",
              "\n",
              "  <script>\n",
              "    async function quickchart(key) {\n",
              "      const quickchartButtonEl =\n",
              "        document.querySelector('#' + key + ' button');\n",
              "      quickchartButtonEl.disabled = true;  // To prevent multiple clicks.\n",
              "      quickchartButtonEl.classList.add('colab-df-spinner');\n",
              "      try {\n",
              "        const charts = await google.colab.kernel.invokeFunction(\n",
              "            'suggestCharts', [key], {});\n",
              "      } catch (error) {\n",
              "        console.error('Error during call to suggestCharts:', error);\n",
              "      }\n",
              "      quickchartButtonEl.classList.remove('colab-df-spinner');\n",
              "      quickchartButtonEl.classList.add('colab-df-quickchart-complete');\n",
              "    }\n",
              "    (() => {\n",
              "      let quickchartButtonEl =\n",
              "        document.querySelector('#df-f94922a7-b700-4b6e-a532-1fbe84f2fe79 button');\n",
              "      quickchartButtonEl.style.display =\n",
              "        google.colab.kernel.accessAllowed ? 'block' : 'none';\n",
              "    })();\n",
              "  </script>\n",
              "</div>\n",
              "    </div>\n",
              "  </div>\n"
            ],
            "application/vnd.google.colaboratory.intrinsic+json": {
              "type": "dataframe",
              "variable_name": "enrolled"
            }
          },
          "metadata": {},
          "execution_count": 7
        }
      ]
    },
    {
      "cell_type": "code",
      "source": [
        "#filter for  EFDELEV = 1 (Summary line for each institution)\n",
        "\n",
        "enrolled_sum = enrolled[ enrolled['EFDELEV'] == 1]\n",
        "# len(enrolled_sum)#30690"
      ],
      "metadata": {
        "id": "HnCCcwyLL23F"
      },
      "execution_count": 8,
      "outputs": []
    },
    {
      "cell_type": "code",
      "source": [
        "#filter for institutions with distance education (e.g. EFDENON (total no distance education) != EFDETOT (total all students))\n",
        "enrolled_sum2 = enrolled_sum[enrolled_sum['EFDENON'] != enrolled_sum['EFDETOT']]\n",
        "\n",
        "# len(enrolled_sum2) #17413"
      ],
      "metadata": {
        "id": "48AO7cw_L8I3"
      },
      "execution_count": 9,
      "outputs": []
    },
    {
      "cell_type": "code",
      "source": [
        "#keep columns of interest for time forecasting\n",
        "#UNITID/YER/STABBR for merging, Target = EFDEEXC\n",
        "cols_to_keep=['UNITID', 'INSTNM','YEAR', 'EFDETOT','EFDEEXC','EFDESOM', 'EFDENON']\n",
        "enrolled_sum3 = enrolled_sum2[cols_to_keep]"
      ],
      "metadata": {
        "id": "aSy_1bujc-qL"
      },
      "execution_count": 10,
      "outputs": []
    },
    {
      "cell_type": "code",
      "source": [
        "#remove rows where EFDEEXC == 0\n",
        "enrolled_sum4=enrolled_sum3[enrolled_sum3['EFDEEXC'] !=0]\n",
        "# len(enrolled_sum4) #15165"
      ],
      "metadata": {
        "id": "Zbwfvd-FAjDy"
      },
      "execution_count": 11,
      "outputs": []
    },
    {
      "cell_type": "code",
      "source": [
        "# len(enrolled_sum4['UNITID'].unique().tolist())  #3571 institutions"
      ],
      "metadata": {
        "id": "07iXnk4VnXdd"
      },
      "execution_count": 12,
      "outputs": []
    },
    {
      "cell_type": "code",
      "source": [
        "#find institutions that have EFDEEXC data for all 5 years\n",
        "#Group the data by 'UNITID' and count the number of unique years for each group\n",
        "unitid_year_counts = enrolled_sum4.groupby('UNITID')['YEAR'].nunique()\n",
        "\n",
        "# # Filter 'UNITID's that have EFDEEXC data for each year\n",
        "filtered_unitids = unitid_year_counts[unitid_year_counts == 5].index\n",
        "# len(filtered_unitids) #2603 institutions\n",
        "\n",
        "# # Get institutions corresponding to the filtered 'UNITID's\n",
        "filtered_de = enrolled_sum4[enrolled_sum4['UNITID'].isin(filtered_unitids)]\n",
        "\n",
        "# # # Display the institutions that have EFDEEXC data for each year\n",
        "# print(\"Institutions with EFDEEXC data appearing for each year:\")\n",
        "# print(filtered_de)\n",
        "filtered_de[filtered_de['INSTNM']=='Alabama A & M University']"
      ],
      "metadata": {
        "id": "ZkrSjXpXlJkz",
        "colab": {
          "base_uri": "https://localhost:8080/",
          "height": 206
        },
        "outputId": "6e51f001-38da-45a2-8132-938ad389940b"
      },
      "execution_count": 13,
      "outputs": [
        {
          "output_type": "execute_result",
          "data": {
            "text/plain": [
              "       UNITID                    INSTNM  YEAR  EFDETOT  EFDEEXC  EFDESOM  \\\n",
              "0      100654  Alabama A & M University  2018     6106      120     1089   \n",
              "21567  100654  Alabama A & M University  2019     6172      102     1213   \n",
              "44429  100654  Alabama A & M University  2020     5977     1869     3890   \n",
              "67092  100654  Alabama A & M University  2021     5969      426     2513   \n",
              "89561  100654  Alabama A & M University  2022     6007      429     3269   \n",
              "\n",
              "       EFDENON  \n",
              "0         4897  \n",
              "21567     4857  \n",
              "44429      218  \n",
              "67092     3030  \n",
              "89561     2309  "
            ],
            "text/html": [
              "\n",
              "  <div id=\"df-9c6063f8-691c-4631-9619-0094d3f69cfc\" class=\"colab-df-container\">\n",
              "    <div>\n",
              "<style scoped>\n",
              "    .dataframe tbody tr th:only-of-type {\n",
              "        vertical-align: middle;\n",
              "    }\n",
              "\n",
              "    .dataframe tbody tr th {\n",
              "        vertical-align: top;\n",
              "    }\n",
              "\n",
              "    .dataframe thead th {\n",
              "        text-align: right;\n",
              "    }\n",
              "</style>\n",
              "<table border=\"1\" class=\"dataframe\">\n",
              "  <thead>\n",
              "    <tr style=\"text-align: right;\">\n",
              "      <th></th>\n",
              "      <th>UNITID</th>\n",
              "      <th>INSTNM</th>\n",
              "      <th>YEAR</th>\n",
              "      <th>EFDETOT</th>\n",
              "      <th>EFDEEXC</th>\n",
              "      <th>EFDESOM</th>\n",
              "      <th>EFDENON</th>\n",
              "    </tr>\n",
              "  </thead>\n",
              "  <tbody>\n",
              "    <tr>\n",
              "      <th>0</th>\n",
              "      <td>100654</td>\n",
              "      <td>Alabama A &amp; M University</td>\n",
              "      <td>2018</td>\n",
              "      <td>6106</td>\n",
              "      <td>120</td>\n",
              "      <td>1089</td>\n",
              "      <td>4897</td>\n",
              "    </tr>\n",
              "    <tr>\n",
              "      <th>21567</th>\n",
              "      <td>100654</td>\n",
              "      <td>Alabama A &amp; M University</td>\n",
              "      <td>2019</td>\n",
              "      <td>6172</td>\n",
              "      <td>102</td>\n",
              "      <td>1213</td>\n",
              "      <td>4857</td>\n",
              "    </tr>\n",
              "    <tr>\n",
              "      <th>44429</th>\n",
              "      <td>100654</td>\n",
              "      <td>Alabama A &amp; M University</td>\n",
              "      <td>2020</td>\n",
              "      <td>5977</td>\n",
              "      <td>1869</td>\n",
              "      <td>3890</td>\n",
              "      <td>218</td>\n",
              "    </tr>\n",
              "    <tr>\n",
              "      <th>67092</th>\n",
              "      <td>100654</td>\n",
              "      <td>Alabama A &amp; M University</td>\n",
              "      <td>2021</td>\n",
              "      <td>5969</td>\n",
              "      <td>426</td>\n",
              "      <td>2513</td>\n",
              "      <td>3030</td>\n",
              "    </tr>\n",
              "    <tr>\n",
              "      <th>89561</th>\n",
              "      <td>100654</td>\n",
              "      <td>Alabama A &amp; M University</td>\n",
              "      <td>2022</td>\n",
              "      <td>6007</td>\n",
              "      <td>429</td>\n",
              "      <td>3269</td>\n",
              "      <td>2309</td>\n",
              "    </tr>\n",
              "  </tbody>\n",
              "</table>\n",
              "</div>\n",
              "    <div class=\"colab-df-buttons\">\n",
              "\n",
              "  <div class=\"colab-df-container\">\n",
              "    <button class=\"colab-df-convert\" onclick=\"convertToInteractive('df-9c6063f8-691c-4631-9619-0094d3f69cfc')\"\n",
              "            title=\"Convert this dataframe to an interactive table.\"\n",
              "            style=\"display:none;\">\n",
              "\n",
              "  <svg xmlns=\"http://www.w3.org/2000/svg\" height=\"24px\" viewBox=\"0 -960 960 960\">\n",
              "    <path d=\"M120-120v-720h720v720H120Zm60-500h600v-160H180v160Zm220 220h160v-160H400v160Zm0 220h160v-160H400v160ZM180-400h160v-160H180v160Zm440 0h160v-160H620v160ZM180-180h160v-160H180v160Zm440 0h160v-160H620v160Z\"/>\n",
              "  </svg>\n",
              "    </button>\n",
              "\n",
              "  <style>\n",
              "    .colab-df-container {\n",
              "      display:flex;\n",
              "      gap: 12px;\n",
              "    }\n",
              "\n",
              "    .colab-df-convert {\n",
              "      background-color: #E8F0FE;\n",
              "      border: none;\n",
              "      border-radius: 50%;\n",
              "      cursor: pointer;\n",
              "      display: none;\n",
              "      fill: #1967D2;\n",
              "      height: 32px;\n",
              "      padding: 0 0 0 0;\n",
              "      width: 32px;\n",
              "    }\n",
              "\n",
              "    .colab-df-convert:hover {\n",
              "      background-color: #E2EBFA;\n",
              "      box-shadow: 0px 1px 2px rgba(60, 64, 67, 0.3), 0px 1px 3px 1px rgba(60, 64, 67, 0.15);\n",
              "      fill: #174EA6;\n",
              "    }\n",
              "\n",
              "    .colab-df-buttons div {\n",
              "      margin-bottom: 4px;\n",
              "    }\n",
              "\n",
              "    [theme=dark] .colab-df-convert {\n",
              "      background-color: #3B4455;\n",
              "      fill: #D2E3FC;\n",
              "    }\n",
              "\n",
              "    [theme=dark] .colab-df-convert:hover {\n",
              "      background-color: #434B5C;\n",
              "      box-shadow: 0px 1px 3px 1px rgba(0, 0, 0, 0.15);\n",
              "      filter: drop-shadow(0px 1px 2px rgba(0, 0, 0, 0.3));\n",
              "      fill: #FFFFFF;\n",
              "    }\n",
              "  </style>\n",
              "\n",
              "    <script>\n",
              "      const buttonEl =\n",
              "        document.querySelector('#df-9c6063f8-691c-4631-9619-0094d3f69cfc button.colab-df-convert');\n",
              "      buttonEl.style.display =\n",
              "        google.colab.kernel.accessAllowed ? 'block' : 'none';\n",
              "\n",
              "      async function convertToInteractive(key) {\n",
              "        const element = document.querySelector('#df-9c6063f8-691c-4631-9619-0094d3f69cfc');\n",
              "        const dataTable =\n",
              "          await google.colab.kernel.invokeFunction('convertToInteractive',\n",
              "                                                    [key], {});\n",
              "        if (!dataTable) return;\n",
              "\n",
              "        const docLinkHtml = 'Like what you see? Visit the ' +\n",
              "          '<a target=\"_blank\" href=https://colab.research.google.com/notebooks/data_table.ipynb>data table notebook</a>'\n",
              "          + ' to learn more about interactive tables.';\n",
              "        element.innerHTML = '';\n",
              "        dataTable['output_type'] = 'display_data';\n",
              "        await google.colab.output.renderOutput(dataTable, element);\n",
              "        const docLink = document.createElement('div');\n",
              "        docLink.innerHTML = docLinkHtml;\n",
              "        element.appendChild(docLink);\n",
              "      }\n",
              "    </script>\n",
              "  </div>\n",
              "\n",
              "\n",
              "<div id=\"df-d4daa69f-374e-4d07-9444-12e239c5a892\">\n",
              "  <button class=\"colab-df-quickchart\" onclick=\"quickchart('df-d4daa69f-374e-4d07-9444-12e239c5a892')\"\n",
              "            title=\"Suggest charts\"\n",
              "            style=\"display:none;\">\n",
              "\n",
              "<svg xmlns=\"http://www.w3.org/2000/svg\" height=\"24px\"viewBox=\"0 0 24 24\"\n",
              "     width=\"24px\">\n",
              "    <g>\n",
              "        <path d=\"M19 3H5c-1.1 0-2 .9-2 2v14c0 1.1.9 2 2 2h14c1.1 0 2-.9 2-2V5c0-1.1-.9-2-2-2zM9 17H7v-7h2v7zm4 0h-2V7h2v10zm4 0h-2v-4h2v4z\"/>\n",
              "    </g>\n",
              "</svg>\n",
              "  </button>\n",
              "\n",
              "<style>\n",
              "  .colab-df-quickchart {\n",
              "      --bg-color: #E8F0FE;\n",
              "      --fill-color: #1967D2;\n",
              "      --hover-bg-color: #E2EBFA;\n",
              "      --hover-fill-color: #174EA6;\n",
              "      --disabled-fill-color: #AAA;\n",
              "      --disabled-bg-color: #DDD;\n",
              "  }\n",
              "\n",
              "  [theme=dark] .colab-df-quickchart {\n",
              "      --bg-color: #3B4455;\n",
              "      --fill-color: #D2E3FC;\n",
              "      --hover-bg-color: #434B5C;\n",
              "      --hover-fill-color: #FFFFFF;\n",
              "      --disabled-bg-color: #3B4455;\n",
              "      --disabled-fill-color: #666;\n",
              "  }\n",
              "\n",
              "  .colab-df-quickchart {\n",
              "    background-color: var(--bg-color);\n",
              "    border: none;\n",
              "    border-radius: 50%;\n",
              "    cursor: pointer;\n",
              "    display: none;\n",
              "    fill: var(--fill-color);\n",
              "    height: 32px;\n",
              "    padding: 0;\n",
              "    width: 32px;\n",
              "  }\n",
              "\n",
              "  .colab-df-quickchart:hover {\n",
              "    background-color: var(--hover-bg-color);\n",
              "    box-shadow: 0 1px 2px rgba(60, 64, 67, 0.3), 0 1px 3px 1px rgba(60, 64, 67, 0.15);\n",
              "    fill: var(--button-hover-fill-color);\n",
              "  }\n",
              "\n",
              "  .colab-df-quickchart-complete:disabled,\n",
              "  .colab-df-quickchart-complete:disabled:hover {\n",
              "    background-color: var(--disabled-bg-color);\n",
              "    fill: var(--disabled-fill-color);\n",
              "    box-shadow: none;\n",
              "  }\n",
              "\n",
              "  .colab-df-spinner {\n",
              "    border: 2px solid var(--fill-color);\n",
              "    border-color: transparent;\n",
              "    border-bottom-color: var(--fill-color);\n",
              "    animation:\n",
              "      spin 1s steps(1) infinite;\n",
              "  }\n",
              "\n",
              "  @keyframes spin {\n",
              "    0% {\n",
              "      border-color: transparent;\n",
              "      border-bottom-color: var(--fill-color);\n",
              "      border-left-color: var(--fill-color);\n",
              "    }\n",
              "    20% {\n",
              "      border-color: transparent;\n",
              "      border-left-color: var(--fill-color);\n",
              "      border-top-color: var(--fill-color);\n",
              "    }\n",
              "    30% {\n",
              "      border-color: transparent;\n",
              "      border-left-color: var(--fill-color);\n",
              "      border-top-color: var(--fill-color);\n",
              "      border-right-color: var(--fill-color);\n",
              "    }\n",
              "    40% {\n",
              "      border-color: transparent;\n",
              "      border-right-color: var(--fill-color);\n",
              "      border-top-color: var(--fill-color);\n",
              "    }\n",
              "    60% {\n",
              "      border-color: transparent;\n",
              "      border-right-color: var(--fill-color);\n",
              "    }\n",
              "    80% {\n",
              "      border-color: transparent;\n",
              "      border-right-color: var(--fill-color);\n",
              "      border-bottom-color: var(--fill-color);\n",
              "    }\n",
              "    90% {\n",
              "      border-color: transparent;\n",
              "      border-bottom-color: var(--fill-color);\n",
              "    }\n",
              "  }\n",
              "</style>\n",
              "\n",
              "  <script>\n",
              "    async function quickchart(key) {\n",
              "      const quickchartButtonEl =\n",
              "        document.querySelector('#' + key + ' button');\n",
              "      quickchartButtonEl.disabled = true;  // To prevent multiple clicks.\n",
              "      quickchartButtonEl.classList.add('colab-df-spinner');\n",
              "      try {\n",
              "        const charts = await google.colab.kernel.invokeFunction(\n",
              "            'suggestCharts', [key], {});\n",
              "      } catch (error) {\n",
              "        console.error('Error during call to suggestCharts:', error);\n",
              "      }\n",
              "      quickchartButtonEl.classList.remove('colab-df-spinner');\n",
              "      quickchartButtonEl.classList.add('colab-df-quickchart-complete');\n",
              "    }\n",
              "    (() => {\n",
              "      let quickchartButtonEl =\n",
              "        document.querySelector('#df-d4daa69f-374e-4d07-9444-12e239c5a892 button');\n",
              "      quickchartButtonEl.style.display =\n",
              "        google.colab.kernel.accessAllowed ? 'block' : 'none';\n",
              "    })();\n",
              "  </script>\n",
              "</div>\n",
              "    </div>\n",
              "  </div>\n"
            ],
            "application/vnd.google.colaboratory.intrinsic+json": {
              "type": "dataframe",
              "summary": "{\n  \"name\": \"filtered_de[filtered_de['INSTNM']=='Alabama A & M University']\",\n  \"rows\": 5,\n  \"fields\": [\n    {\n      \"column\": \"UNITID\",\n      \"properties\": {\n        \"dtype\": \"number\",\n        \"std\": 0,\n        \"min\": 100654,\n        \"max\": 100654,\n        \"num_unique_values\": 1,\n        \"samples\": [\n          100654\n        ],\n        \"semantic_type\": \"\",\n        \"description\": \"\"\n      }\n    },\n    {\n      \"column\": \"INSTNM\",\n      \"properties\": {\n        \"dtype\": \"category\",\n        \"num_unique_values\": 1,\n        \"samples\": [\n          \"Alabama A & M University\"\n        ],\n        \"semantic_type\": \"\",\n        \"description\": \"\"\n      }\n    },\n    {\n      \"column\": \"YEAR\",\n      \"properties\": {\n        \"dtype\": \"number\",\n        \"std\": 1,\n        \"min\": 2018,\n        \"max\": 2022,\n        \"num_unique_values\": 5,\n        \"samples\": [\n          2019\n        ],\n        \"semantic_type\": \"\",\n        \"description\": \"\"\n      }\n    },\n    {\n      \"column\": \"EFDETOT\",\n      \"properties\": {\n        \"dtype\": \"number\",\n        \"std\": 89,\n        \"min\": 5969,\n        \"max\": 6172,\n        \"num_unique_values\": 5,\n        \"samples\": [\n          6172\n        ],\n        \"semantic_type\": \"\",\n        \"description\": \"\"\n      }\n    },\n    {\n      \"column\": \"EFDEEXC\",\n      \"properties\": {\n        \"dtype\": \"number\",\n        \"std\": 732,\n        \"min\": 102,\n        \"max\": 1869,\n        \"num_unique_values\": 5,\n        \"samples\": [\n          102\n        ],\n        \"semantic_type\": \"\",\n        \"description\": \"\"\n      }\n    },\n    {\n      \"column\": \"EFDESOM\",\n      \"properties\": {\n        \"dtype\": \"number\",\n        \"std\": 1236,\n        \"min\": 1089,\n        \"max\": 3890,\n        \"num_unique_values\": 5,\n        \"samples\": [\n          1213\n        ],\n        \"semantic_type\": \"\",\n        \"description\": \"\"\n      }\n    },\n    {\n      \"column\": \"EFDENON\",\n      \"properties\": {\n        \"dtype\": \"number\",\n        \"std\": 1952,\n        \"min\": 218,\n        \"max\": 4897,\n        \"num_unique_values\": 5,\n        \"samples\": [\n          4857\n        ],\n        \"semantic_type\": \"\",\n        \"description\": \"\"\n      }\n    }\n  ]\n}"
            }
          },
          "metadata": {},
          "execution_count": 13
        }
      ]
    },
    {
      "cell_type": "code",
      "source": [
        "institution_df = filtered_de[['INSTNM','UNITID']]\n",
        "institution_df = institution_df.drop_duplicates(subset = ['INSTNM'])\n",
        "institution_df= pd.DataFrame(institution_df)\n",
        "institution_df = institution_df.rename(columns = {0: 'INSTNM'})\n",
        "# institution_df"
      ],
      "metadata": {
        "id": "em6CvHI9GxCj"
      },
      "execution_count": 14,
      "outputs": []
    },
    {
      "cell_type": "code",
      "source": [
        "# filtered_de.describe()"
      ],
      "metadata": {
        "id": "BgxPKsu4BOWQ"
      },
      "execution_count": 15,
      "outputs": []
    },
    {
      "cell_type": "code",
      "source": [
        "#data checks\n",
        "# missing_values = filtered_de.isnull().sum()\n",
        "# print(\"Missing Values:\\n\", missing_values)\n",
        "\n",
        "# duplicates = filtered_de.duplicated().sum()\n",
        "# print(\"Duplicate Rows:\", duplicates)\n",
        "\n",
        "# data_types = filtered_de.dtypes\n",
        "# print(\"Data Types:\\n\", data_types)"
      ],
      "metadata": {
        "id": "4iFofJ23UgGS"
      },
      "execution_count": 16,
      "outputs": []
    },
    {
      "cell_type": "code",
      "source": [
        "#check for outliers\n",
        "filtered_de.boxplot(column=['EFDEEXC'])"
      ],
      "metadata": {
        "id": "HRpvZtG9U622",
        "colab": {
          "base_uri": "https://localhost:8080/",
          "height": 447
        },
        "outputId": "4b70b9fa-9da6-43f9-b62f-7b91dc394c88"
      },
      "execution_count": 17,
      "outputs": [
        {
          "output_type": "execute_result",
          "data": {
            "text/plain": [
              "<Axes: >"
            ]
          },
          "metadata": {},
          "execution_count": 17
        },
        {
          "output_type": "display_data",
          "data": {
            "text/plain": [
              "<Figure size 640x480 with 1 Axes>"
            ],
            "image/png": "[encoded data removed]"
          },
          "metadata": {}
        }
      ]
    },
    {
      "cell_type": "code",
      "source": [
        "#enrollment distribution - EFDEEXC\n",
        "data = filtered_de['EFDEEXC']\n",
        "\n",
        "#handle outliers\n",
        "transformed_data = np.log(data)\n",
        "\n",
        "# Create histogram\n",
        "plt.hist(data,  color='skyblue')\n",
        "\n",
        "# Labeling axes\n",
        "plt.xlabel('EFDEXC')\n",
        "plt.ylabel('Frequency')\n",
        "plt.title('Distribution of EFDEEXC enrollment')\n",
        "\n",
        "# Show plot\n",
        "plt.show()"
      ],
      "metadata": {
        "id": "urZ5IRguVyxQ",
        "colab": {
          "base_uri": "https://localhost:8080/",
          "height": 472
        },
        "outputId": "e5c895e1-abdf-4476-9241-d9e25b18baa1"
      },
      "execution_count": 18,
      "outputs": [
        {
          "output_type": "display_data",
          "data": {
            "text/plain": [
              "<Figure size 640x480 with 1 Axes>"
            ],
            "image/png": "[encoded data removed]"
          },
          "metadata": {}
        }
      ]
    },
    {
      "cell_type": "code",
      "source": [
        "\n",
        "de_exc = filtered_de[['UNITID', 'YEAR', 'EFDEEXC']]\n",
        "de_exc\n"
      ],
      "metadata": {
        "id": "CvZhT2YCWK2L",
        "colab": {
          "base_uri": "https://localhost:8080/",
          "height": 423
        },
        "outputId": "540f3489-801a-416f-c2b9-525bba4e95d1"
      },
      "execution_count": 19,
      "outputs": [
        {
          "output_type": "execute_result",
          "data": {
            "text/plain": [
              "        UNITID  YEAR  EFDEEXC\n",
              "0       100654  2018      120\n",
              "5       100663  2018     5603\n",
              "10      100690  2018      755\n",
              "14      100706  2018      638\n",
              "19      100724  2018      437\n",
              "...        ...   ...      ...\n",
              "110998  492476  2022      171\n",
              "111014  492689  2022       28\n",
              "111027  492759  2022       20\n",
              "111031  492801  2022      451\n",
              "111041  492962  2022     2516\n",
              "\n",
              "[13015 rows x 3 columns]"
            ],
            "text/html": [
              "\n",
              "  <div id=\"df-38eeaa70-2b2b-4401-9c00-7da47ada4c80\" class=\"colab-df-container\">\n",
              "    <div>\n",
              "<style scoped>\n",
              "    .dataframe tbody tr th:only-of-type {\n",
              "        vertical-align: middle;\n",
              "    }\n",
              "\n",
              "    .dataframe tbody tr th {\n",
              "        vertical-align: top;\n",
              "    }\n",
              "\n",
              "    .dataframe thead th {\n",
              "        text-align: right;\n",
              "    }\n",
              "</style>\n",
              "<table border=\"1\" class=\"dataframe\">\n",
              "  <thead>\n",
              "    <tr style=\"text-align: right;\">\n",
              "      <th></th>\n",
              "      <th>UNITID</th>\n",
              "      <th>YEAR</th>\n",
              "      <th>EFDEEXC</th>\n",
              "    </tr>\n",
              "  </thead>\n",
              "  <tbody>\n",
              "    <tr>\n",
              "      <th>0</th>\n",
              "      <td>100654</td>\n",
              "      <td>2018</td>\n",
              "      <td>120</td>\n",
              "    </tr>\n",
              "    <tr>\n",
              "      <th>5</th>\n",
              "      <td>100663</td>\n",
              "      <td>2018</td>\n",
              "      <td>5603</td>\n",
              "    </tr>\n",
              "    <tr>\n",
              "      <th>10</th>\n",
              "      <td>100690</td>\n",
              "      <td>2018</td>\n",
              "      <td>755</td>\n",
              "    </tr>\n",
              "    <tr>\n",
              "      <th>14</th>\n",
              "      <td>100706</td>\n",
              "      <td>2018</td>\n",
              "      <td>638</td>\n",
              "    </tr>\n",
              "    <tr>\n",
              "      <th>19</th>\n",
              "      <td>100724</td>\n",
              "      <td>2018</td>\n",
              "      <td>437</td>\n",
              "    </tr>\n",
              "    <tr>\n",
              "      <th>...</th>\n",
              "      <td>...</td>\n",
              "      <td>...</td>\n",
              "      <td>...</td>\n",
              "    </tr>\n",
              "    <tr>\n",
              "      <th>110998</th>\n",
              "      <td>492476</td>\n",
              "      <td>2022</td>\n",
              "      <td>171</td>\n",
              "    </tr>\n",
              "    <tr>\n",
              "      <th>111014</th>\n",
              "      <td>492689</td>\n",
              "      <td>2022</td>\n",
              "      <td>28</td>\n",
              "    </tr>\n",
              "    <tr>\n",
              "      <th>111027</th>\n",
              "      <td>492759</td>\n",
              "      <td>2022</td>\n",
              "      <td>20</td>\n",
              "    </tr>\n",
              "    <tr>\n",
              "      <th>111031</th>\n",
              "      <td>492801</td>\n",
              "      <td>2022</td>\n",
              "      <td>451</td>\n",
              "    </tr>\n",
              "    <tr>\n",
              "      <th>111041</th>\n",
              "      <td>492962</td>\n",
              "      <td>2022</td>\n",
              "      <td>2516</td>\n",
              "    </tr>\n",
              "  </tbody>\n",
              "</table>\n",
              "<p>13015 rows × 3 columns</p>\n",
              "</div>\n",
              "    <div class=\"colab-df-buttons\">\n",
              "\n",
              "  <div class=\"colab-df-container\">\n",
              "    <button class=\"colab-df-convert\" onclick=\"convertToInteractive('df-38eeaa70-2b2b-4401-9c00-7da47ada4c80')\"\n",
              "            title=\"Convert this dataframe to an interactive table.\"\n",
              "            style=\"display:none;\">\n",
              "\n",
              "  <svg xmlns=\"http://www.w3.org/2000/svg\" height=\"24px\" viewBox=\"0 -960 960 960\">\n",
              "    <path d=\"M120-120v-720h720v720H120Zm60-500h600v-160H180v160Zm220 220h160v-160H400v160Zm0 220h160v-160H400v160ZM180-400h160v-160H180v160Zm440 0h160v-160H620v160ZM180-180h160v-160H180v160Zm440 0h160v-160H620v160Z\"/>\n",
              "  </svg>\n",
              "    </button>\n",
              "\n",
              "  <style>\n",
              "    .colab-df-container {\n",
              "      display:flex;\n",
              "      gap: 12px;\n",
              "    }\n",
              "\n",
              "    .colab-df-convert {\n",
              "      background-color: #E8F0FE;\n",
              "      border: none;\n",
              "      border-radius: 50%;\n",
              "      cursor: pointer;\n",
              "      display: none;\n",
              "      fill: #1967D2;\n",
              "      height: 32px;\n",
              "      padding: 0 0 0 0;\n",
              "      width: 32px;\n",
              "    }\n",
              "\n",
              "    .colab-df-convert:hover {\n",
              "      background-color: #E2EBFA;\n",
              "      box-shadow: 0px 1px 2px rgba(60, 64, 67, 0.3), 0px 1px 3px 1px rgba(60, 64, 67, 0.15);\n",
              "      fill: #174EA6;\n",
              "    }\n",
              "\n",
              "    .colab-df-buttons div {\n",
              "      margin-bottom: 4px;\n",
              "    }\n",
              "\n",
              "    [theme=dark] .colab-df-convert {\n",
              "      background-color: #3B4455;\n",
              "      fill: #D2E3FC;\n",
              "    }\n",
              "\n",
              "    [theme=dark] .colab-df-convert:hover {\n",
              "      background-color: #434B5C;\n",
              "      box-shadow: 0px 1px 3px 1px rgba(0, 0, 0, 0.15);\n",
              "      filter: drop-shadow(0px 1px 2px rgba(0, 0, 0, 0.3));\n",
              "      fill: #FFFFFF;\n",
              "    }\n",
              "  </style>\n",
              "\n",
              "    <script>\n",
              "      const buttonEl =\n",
              "        document.querySelector('#df-38eeaa70-2b2b-4401-9c00-7da47ada4c80 button.colab-df-convert');\n",
              "      buttonEl.style.display =\n",
              "        google.colab.kernel.accessAllowed ? 'block' : 'none';\n",
              "\n",
              "      async function convertToInteractive(key) {\n",
              "        const element = document.querySelector('#df-38eeaa70-2b2b-4401-9c00-7da47ada4c80');\n",
              "        const dataTable =\n",
              "          await google.colab.kernel.invokeFunction('convertToInteractive',\n",
              "                                                    [key], {});\n",
              "        if (!dataTable) return;\n",
              "\n",
              "        const docLinkHtml = 'Like what you see? Visit the ' +\n",
              "          '<a target=\"_blank\" href=https://colab.research.google.com/notebooks/data_table.ipynb>data table notebook</a>'\n",
              "          + ' to learn more about interactive tables.';\n",
              "        element.innerHTML = '';\n",
              "        dataTable['output_type'] = 'display_data';\n",
              "        await google.colab.output.renderOutput(dataTable, element);\n",
              "        const docLink = document.createElement('div');\n",
              "        docLink.innerHTML = docLinkHtml;\n",
              "        element.appendChild(docLink);\n",
              "      }\n",
              "    </script>\n",
              "  </div>\n",
              "\n",
              "\n",
              "<div id=\"df-e302dfde-3c58-49a4-a7cd-83ed9078efb3\">\n",
              "  <button class=\"colab-df-quickchart\" onclick=\"quickchart('df-e302dfde-3c58-49a4-a7cd-83ed9078efb3')\"\n",
              "            title=\"Suggest charts\"\n",
              "            style=\"display:none;\">\n",
              "\n",
              "<svg xmlns=\"http://www.w3.org/2000/svg\" height=\"24px\"viewBox=\"0 0 24 24\"\n",
              "     width=\"24px\">\n",
              "    <g>\n",
              "        <path d=\"M19 3H5c-1.1 0-2 .9-2 2v14c0 1.1.9 2 2 2h14c1.1 0 2-.9 2-2V5c0-1.1-.9-2-2-2zM9 17H7v-7h2v7zm4 0h-2V7h2v10zm4 0h-2v-4h2v4z\"/>\n",
              "    </g>\n",
              "</svg>\n",
              "  </button>\n",
              "\n",
              "<style>\n",
              "  .colab-df-quickchart {\n",
              "      --bg-color: #E8F0FE;\n",
              "      --fill-color: #1967D2;\n",
              "      --hover-bg-color: #E2EBFA;\n",
              "      --hover-fill-color: #174EA6;\n",
              "      --disabled-fill-color: #AAA;\n",
              "      --disabled-bg-color: #DDD;\n",
              "  }\n",
              "\n",
              "  [theme=dark] .colab-df-quickchart {\n",
              "      --bg-color: #3B4455;\n",
              "      --fill-color: #D2E3FC;\n",
              "      --hover-bg-color: #434B5C;\n",
              "      --hover-fill-color: #FFFFFF;\n",
              "      --disabled-bg-color: #3B4455;\n",
              "      --disabled-fill-color: #666;\n",
              "  }\n",
              "\n",
              "  .colab-df-quickchart {\n",
              "    background-color: var(--bg-color);\n",
              "    border: none;\n",
              "    border-radius: 50%;\n",
              "    cursor: pointer;\n",
              "    display: none;\n",
              "    fill: var(--fill-color);\n",
              "    height: 32px;\n",
              "    padding: 0;\n",
              "    width: 32px;\n",
              "  }\n",
              "\n",
              "  .colab-df-quickchart:hover {\n",
              "    background-color: var(--hover-bg-color);\n",
              "    box-shadow: 0 1px 2px rgba(60, 64, 67, 0.3), 0 1px 3px 1px rgba(60, 64, 67, 0.15);\n",
              "    fill: var(--button-hover-fill-color);\n",
              "  }\n",
              "\n",
              "  .colab-df-quickchart-complete:disabled,\n",
              "  .colab-df-quickchart-complete:disabled:hover {\n",
              "    background-color: var(--disabled-bg-color);\n",
              "    fill: var(--disabled-fill-color);\n",
              "    box-shadow: none;\n",
              "  }\n",
              "\n",
              "  .colab-df-spinner {\n",
              "    border: 2px solid var(--fill-color);\n",
              "    border-color: transparent;\n",
              "    border-bottom-color: var(--fill-color);\n",
              "    animation:\n",
              "      spin 1s steps(1) infinite;\n",
              "  }\n",
              "\n",
              "  @keyframes spin {\n",
              "    0% {\n",
              "      border-color: transparent;\n",
              "      border-bottom-color: var(--fill-color);\n",
              "      border-left-color: var(--fill-color);\n",
              "    }\n",
              "    20% {\n",
              "      border-color: transparent;\n",
              "      border-left-color: var(--fill-color);\n",
              "      border-top-color: var(--fill-color);\n",
              "    }\n",
              "    30% {\n",
              "      border-color: transparent;\n",
              "      border-left-color: var(--fill-color);\n",
              "      border-top-color: var(--fill-color);\n",
              "      border-right-color: var(--fill-color);\n",
              "    }\n",
              "    40% {\n",
              "      border-color: transparent;\n",
              "      border-right-color: var(--fill-color);\n",
              "      border-top-color: var(--fill-color);\n",
              "    }\n",
              "    60% {\n",
              "      border-color: transparent;\n",
              "      border-right-color: var(--fill-color);\n",
              "    }\n",
              "    80% {\n",
              "      border-color: transparent;\n",
              "      border-right-color: var(--fill-color);\n",
              "      border-bottom-color: var(--fill-color);\n",
              "    }\n",
              "    90% {\n",
              "      border-color: transparent;\n",
              "      border-bottom-color: var(--fill-color);\n",
              "    }\n",
              "  }\n",
              "</style>\n",
              "\n",
              "  <script>\n",
              "    async function quickchart(key) {\n",
              "      const quickchartButtonEl =\n",
              "        document.querySelector('#' + key + ' button');\n",
              "      quickchartButtonEl.disabled = true;  // To prevent multiple clicks.\n",
              "      quickchartButtonEl.classList.add('colab-df-spinner');\n",
              "      try {\n",
              "        const charts = await google.colab.kernel.invokeFunction(\n",
              "            'suggestCharts', [key], {});\n",
              "      } catch (error) {\n",
              "        console.error('Error during call to suggestCharts:', error);\n",
              "      }\n",
              "      quickchartButtonEl.classList.remove('colab-df-spinner');\n",
              "      quickchartButtonEl.classList.add('colab-df-quickchart-complete');\n",
              "    }\n",
              "    (() => {\n",
              "      let quickchartButtonEl =\n",
              "        document.querySelector('#df-e302dfde-3c58-49a4-a7cd-83ed9078efb3 button');\n",
              "      quickchartButtonEl.style.display =\n",
              "        google.colab.kernel.accessAllowed ? 'block' : 'none';\n",
              "    })();\n",
              "  </script>\n",
              "</div>\n",
              "    </div>\n",
              "  </div>\n"
            ],
            "application/vnd.google.colaboratory.intrinsic+json": {
              "type": "dataframe",
              "variable_name": "de_exc",
              "summary": "{\n  \"name\": \"de_exc\",\n  \"rows\": 13015,\n  \"fields\": [\n    {\n      \"column\": \"UNITID\",\n      \"properties\": {\n        \"dtype\": \"number\",\n        \"std\": 95734,\n        \"min\": 100654,\n        \"max\": 492962,\n        \"num_unique_values\": 2603,\n        \"samples\": [\n          157447,\n          169521,\n          218025\n        ],\n        \"semantic_type\": \"\",\n        \"description\": \"\"\n      }\n    },\n    {\n      \"column\": \"YEAR\",\n      \"properties\": {\n        \"dtype\": \"number\",\n        \"std\": 1,\n        \"min\": 2018,\n        \"max\": 2022,\n        \"num_unique_values\": 5,\n        \"samples\": [\n          2019,\n          2022,\n          2020\n        ],\n        \"semantic_type\": \"\",\n        \"description\": \"\"\n      }\n    },\n    {\n      \"column\": \"EFDEEXC\",\n      \"properties\": {\n        \"dtype\": \"number\",\n        \"std\": 6152,\n        \"min\": 1,\n        \"max\": 157898,\n        \"num_unique_values\": 4103,\n        \"samples\": [\n          1417,\n          2959,\n          1139\n        ],\n        \"semantic_type\": \"\",\n        \"description\": \"\"\n      }\n    }\n  ]\n}"
            }
          },
          "metadata": {},
          "execution_count": 19
        }
      ]
    },
    {
      "cell_type": "code",
      "source": [],
      "metadata": {
        "id": "e5f23-gBxrMo"
      },
      "execution_count": 19,
      "outputs": []
    },
    {
      "cell_type": "markdown",
      "source": [
        "#ARIMA"
      ],
      "metadata": {
        "id": "S7wJgqudxsUF"
      }
    },
    {
      "cell_type": "code",
      "source": [
        "#https://neptune.ai/blog/arima-sarima-real-world-time-series-forecasting-guide\n",
        "def check_stationarity(ts):\n",
        "    dftest = adfuller(ts)\n",
        "    adf = dftest[0]\n",
        "    pvalue = dftest[1]\n",
        "    critical_value = dftest[4]['5%']\n",
        "    if (pvalue < 0.05) and (adf < critical_value):\n",
        "        print('The series is stationary')\n",
        "    else:\n",
        "        print('The series is NOT stationary')"
      ],
      "metadata": {
        "id": "0y1nUDPo48gF"
      },
      "execution_count": 20,
      "outputs": []
    },
    {
      "cell_type": "code",
      "source": [
        "check_stationarity (de_exc['EFDEEXC'])\n"
      ],
      "metadata": {
        "id": "cPzlsyDj4_Lk",
        "colab": {
          "base_uri": "https://localhost:8080/"
        },
        "outputId": "a2f1f6cc-afe3-4ef2-a9cb-f42fa4692ff1"
      },
      "execution_count": 21,
      "outputs": [
        {
          "output_type": "stream",
          "name": "stdout",
          "text": [
            "The series is stationary\n"
          ]
        }
      ]
    },
    {
      "cell_type": "code",
      "source": [
        "de_exc['YEAR'] = pd.to_datetime(de_exc['YEAR'].astype(str) + '-10-31')\n",
        "\n",
        "aggregate_data = de_exc.groupby('YEAR')['EFDEEXC'].sum()\n",
        "aggregate_data"
      ],
      "metadata": {
        "id": "nhudN7-W5mps",
        "colab": {
          "base_uri": "https://localhost:8080/"
        },
        "outputId": "c43a32ab-296d-402c-be15-f1e0c10d6661"
      },
      "execution_count": 25,
      "outputs": [
        {
          "output_type": "stream",
          "name": "stderr",
          "text": [
            "<ipython-input-25-b35c8443253d>:1: SettingWithCopyWarning: \n",
            "A value is trying to be set on a copy of a slice from a DataFrame.\n",
            "Try using .loc[row_indexer,col_indexer] = value instead\n",
            "\n",
            "See the caveats in the documentation: https://pandas.pydata.org/pandas-docs/stable/user_guide/indexing.html#returning-a-view-versus-a-copy\n",
            "  de_exc['YEAR'] = pd.to_datetime(de_exc['YEAR'].astype(str) + '-10-31')\n"
          ]
        },
        {
          "output_type": "execute_result",
          "data": {
            "text/plain": [
              "YEAR\n",
              "2018-10-31    3159019\n",
              "2019-10-31    3382992\n",
              "2020-10-31    8593245\n",
              "2021-10-31    5623201\n",
              "2022-10-31    4898232\n",
              "Name: EFDEEXC, dtype: int64"
            ]
          },
          "metadata": {},
          "execution_count": 25
        }
      ]
    },
    {
      "cell_type": "code",
      "source": [
        "# # Split data into train and test sets\n",
        "train_data = aggregate_data.index.year < 2022  # Use years up to 2021 for training\n",
        "test_data = aggregate_data.index.year >= 2022\n",
        "\n",
        "# Fit ARIMA model with the selected parameters on the training data\n",
        "model_fit = model.fit(train_data)\n",
        "\n",
        "# Forecast enrollment for the test data period\n",
        "forecast = model_fit.predict(n_periods=len(test_data))\n",
        "\n",
        "# Calculate evaluation metrics\n",
        "mse = mean_squared_error(test_data, forecast)\n",
        "rmse = np.sqrt(mse)\n",
        "\n",
        "print(\"Mean Squared Error (MSE):\", mse)\n",
        "print(\"Root Mean Squared Error (RMSE):\", rmse)"
      ],
      "metadata": {
        "id": "Y-w1tiL_6wr9",
        "colab": {
          "base_uri": "https://localhost:8080/"
        },
        "outputId": "e6d86a80-4380-4972-d055-5868612df4a7"
      },
      "execution_count": 27,
      "outputs": [
        {
          "output_type": "stream",
          "name": "stdout",
          "text": [
            "Mean Squared Error (MSE): 0.5199999995222411\n",
            "Root Mean Squared Error (RMSE): 0.7211102547615317\n"
          ]
        }
      ]
    },
    {
      "cell_type": "code",
      "source": [
        "# forecast enrollment for the next 'n_steps' years\n",
        "n_steps = 5\n",
        "\n",
        "# Fit ARIMA model\n",
        "model = auto_arima(aggregate_data, seasonal=False, trace=True)\n",
        "\n",
        "# Fit ARIMA model with the selected parameters\n",
        "model_fit = model.fit(aggregate_data)\n",
        "\n",
        "# Forecast enrollment for the next 'n_steps' years\n",
        "n_steps = 5\n",
        "forecast = model_fit.predict(n_periods=n_steps)\n",
        "\n",
        "# Extend the index to include forecasted years starting from October 31, 2023\n",
        "forecast_index = pd.date_range(start='2022-10-31', periods=n_steps, freq='Y')\n",
        "\n",
        "# Plot\n",
        "plt.figure(figsize=(10, 6))\n",
        "plt.plot(aggregate_data.index, aggregate_data, label='Actual')\n",
        "plt.plot(forecast_index, forecast, label='Forecast', linestyle='dashed')\n",
        "plt.title('Aggregate Enrollment Forecast')\n",
        "plt.xlabel('Year')\n",
        "plt.ylabel('Enrollment')\n",
        "plt.legend()\n",
        "plt.show()"
      ],
      "metadata": {
        "id": "PPrjGUBS6jI-",
        "colab": {
          "base_uri": "https://localhost:8080/",
          "height": 744
        },
        "outputId": "c0e1fe13-69ca-4ecf-cf58-8a687cc5e0d5"
      },
      "execution_count": 26,
      "outputs": [
        {
          "output_type": "stream",
          "name": "stdout",
          "text": [
            "Performing stepwise search to minimize aic\n",
            " ARIMA(1,0,1)(0,0,0)[0]             : AIC=1055507177.881, Time=0.15 sec\n",
            " ARIMA(0,0,0)(0,0,0)[0]             : AIC=171.380, Time=0.01 sec\n",
            " ARIMA(1,0,0)(0,0,0)[0]             : AIC=167.867, Time=0.02 sec\n",
            " ARIMA(0,0,1)(0,0,0)[0]             : AIC=171.844, Time=0.03 sec\n",
            " ARIMA(1,0,0)(0,0,0)[0] intercept   : AIC=165.110, Time=0.03 sec\n",
            " ARIMA(0,0,0)(0,0,0)[0] intercept   : AIC=163.079, Time=0.03 sec\n",
            " ARIMA(0,0,1)(0,0,0)[0] intercept   : AIC=inf, Time=0.21 sec\n",
            " ARIMA(1,0,1)(0,0,0)[0] intercept   : AIC=1053110065.733, Time=0.43 sec\n",
            "\n",
            "Best model:  ARIMA(0,0,0)(0,0,0)[0] intercept\n",
            "Total fit time: 0.930 seconds\n"
          ]
        },
        {
          "output_type": "display_data",
          "data": {
            "text/plain": [
              "<Figure size 1000x600 with 1 Axes>"
            ],
            "image/png": "[encoded data removed]"
          },
          "metadata": {}
        }
      ]
    },
    {
      "cell_type": "markdown",
      "source": [
        "#ARIMA BY INSTITUTION"
      ],
      "metadata": {
        "id": "tSchBY-OEoPg"
      }
    },
    {
      "cell_type": "code",
      "source": [
        "def find_institution_id(institution_name, institution_df):\n",
        "    \"\"\"\n",
        "    Find the institution ID based on the institution name.\n",
        "\n",
        "    Parameters:\n",
        "        institution_name (str): Name of the institution to search for.\n",
        "        institution_df (DataFrame): DataFrame containing institution IDs and names.\n",
        "\n",
        "    Returns:\n",
        "        institution_id (str): ID of the institution found (or None if not found).\n",
        "    \"\"\"\n",
        "    institution_df = institution_df.copy()\n",
        "    institution_id = institution_df[institution_df['INSTNM'] == institution_name]['UNITID'].values\n",
        "    if len(institution_id) > 0:\n",
        "        return institution_id[0]\n",
        "    else:\n",
        "        print(f\"Institution '{institution_name}' not found.\")\n",
        "        return None"
      ],
      "metadata": {
        "id": "M1CmcUShjNYE"
      },
      "execution_count": 28,
      "outputs": []
    },
    {
      "cell_type": "code",
      "source": [
        "def predict_enrollment_2022(institution_name, enrollment_data, institution_df):\n",
        "    \"\"\"\n",
        "    Predict enrollment for the year 2022 for a specific institution.\n",
        "\n",
        "    Parameters:\n",
        "        institution_name (str): Name of the institution to predict enrollment for.\n",
        "        enrollment_data (DataFrame): DataFrame containing enrollment data.\n",
        "        institution_df (DataFrame): DataFrame containing institution IDs and names.\n",
        "\n",
        "    Returns:\n",
        "        metrics (dict): Dictionary containing evaluation metrics for the prediction.\n",
        "    \"\"\"\n",
        "    # Find the institution ID based on the institution name\n",
        "    institution_id = find_institution_id(institution_name, institution_df)\n",
        "\n",
        "    if institution_id is not None:\n",
        "        # Get data for the specified institution\n",
        "        institution_data = enrollment_data[enrollment_data['UNITID'] == institution_id].copy()\n",
        "\n",
        "        # Convert 'year' column to datetime format using .loc\n",
        "        institution_data.loc[:, 'YEAR'] = pd.to_datetime(institution_data['YEAR'].astype(str))\n",
        "\n",
        "\n",
        "        # Split data into train and test sets (using data up to 2022 for training)\n",
        "        train_years = institution_data['YEAR'].dt.year < 2022\n",
        "        test_years = institution_data['YEAR'].dt.year == 2022\n",
        "        train_data = institution_data[train_years]['EFDEEXC']\n",
        "        test_data = institution_data[test_years]['EFDEEXC']\n",
        "\n",
        "        # Use auto_arima to auto select the optimal ARIMA model parameters\n",
        "        model = auto_arima(train_data, seasonal=False, trace=True)\n",
        "\n",
        "        # Fit ARIMA model with the selected parameters on the training data\n",
        "        model_fit = model.fit(train_data)\n",
        "\n",
        "        # Forecast enrollment for 2022\n",
        "        forecast_2022 = model_fit.predict(n_periods=len(test_data))\n",
        "\n",
        "        plt.bar(['Actual', 'Predicted'], [test_data.values[0], forecast_2022.values[0]])\n",
        "        plt.xlabel('Data Type')\n",
        "        plt.ylabel('Enrollment')\n",
        "        plt.title(f'Actual vs Predicted Enrollment for {institution_name} in 2022')\n",
        "        plt.grid(False)\n",
        "        plt.show()\n",
        "\n",
        "        print (test_data.values)\n",
        "        print (forecast_2022.values)\n",
        "\n",
        "\n",
        "\n",
        "        # Calculate evaluation metrics\n",
        "        mae = np.mean(np.abs(test_data.values - forecast_2022))\n",
        "        mse = np.mean((test_data.values - forecast_2022) ** 2)\n",
        "        rmse = np.sqrt(mse)\n",
        "\n",
        "        # Create a dictionary to store evaluation metrics\n",
        "        metrics = {\n",
        "            'MAE': mae,\n",
        "            'MSE': mse,\n",
        "            'RMSE': rmse\n",
        "        }\n",
        "\n",
        "        return metrics\n",
        "\n",
        "    else:\n",
        "        print(f\"No data found for institution '{institution_name}'.\")\n",
        "        return None"
      ],
      "metadata": {
        "id": "9oGYUjzJrLuF"
      },
      "execution_count": 135,
      "outputs": []
    },
    {
      "cell_type": "code",
      "source": [
        "#User inputs the institution name\n",
        "institution_name = input(\"Enter the name of the institution: \")\n",
        "enrollment_data = de_exc\n",
        "predict_enrollment_2022 (institution_name, enrollment_data, institution_df)"
      ],
      "metadata": {
        "id": "iNTEZb5FrfdW",
        "colab": {
          "base_uri": "https://localhost:8080/",
          "height": 839
        },
        "outputId": "e7f6ba34-4035-4cb0-c8cb-922253b6f62c"
      },
      "execution_count": 134,
      "outputs": [
        {
          "output_type": "stream",
          "name": "stdout",
          "text": [
            "Enter the name of the institution: Alabama A & M University\n",
            "Performing stepwise search to minimize aic\n",
            " ARIMA(1,0,1)(0,0,0)[0]             : AIC=inf, Time=0.14 sec\n",
            " ARIMA(0,0,0)(0,0,0)[0]             : AIC=68.301, Time=0.01 sec\n",
            " ARIMA(1,0,0)(0,0,0)[0]             : AIC=70.047, Time=0.05 sec\n",
            " ARIMA(0,0,1)(0,0,0)[0]             : AIC=70.071, Time=0.13 sec\n",
            " ARIMA(0,0,0)(0,0,0)[0] intercept   : AIC=68.066, Time=0.03 sec\n",
            " ARIMA(1,0,0)(0,0,0)[0] intercept   : AIC=69.696, Time=0.12 sec\n",
            " ARIMA(0,0,1)(0,0,0)[0] intercept   : AIC=inf, Time=0.12 sec\n",
            " ARIMA(1,0,1)(0,0,0)[0] intercept   : AIC=inf, Time=0.19 sec\n",
            "\n",
            "Best model:  ARIMA(0,0,0)(0,0,0)[0] intercept\n",
            "Total fit time: 0.826 seconds\n"
          ]
        },
        {
          "output_type": "stream",
          "name": "stderr",
          "text": [
            "/usr/local/lib/python3.10/dist-packages/statsmodels/tsa/base/tsa_model.py:836: ValueWarning: No supported index is available. Prediction results will be given with an integer index beginning at `start`.\n",
            "  return get_prediction_index(\n",
            "/usr/local/lib/python3.10/dist-packages/statsmodels/tsa/base/tsa_model.py:836: FutureWarning: No supported index is available. In the next version, calling this method in a model without a supported index will result in an exception.\n",
            "  return get_prediction_index(\n"
          ]
        },
        {
          "output_type": "display_data",
          "data": {
            "text/plain": [
              "<Figure size 640x480 with 1 Axes>"
            ],
            "image/png": "[encoded data removed]"
          },
          "metadata": {}
        },
        {
          "output_type": "stream",
          "name": "stdout",
          "text": [
            "[429]\n",
            "[629.25]\n"
          ]
        },
        {
          "output_type": "execute_result",
          "data": {
            "text/plain": [
              "{'MAE': 200.25, 'MSE': 40100.0625, 'RMSE': 200.25}"
            ]
          },
          "metadata": {},
          "execution_count": 134
        }
      ]
    },
    {
      "cell_type": "code",
      "source": [],
      "metadata": {
        "id": "KnvjJGo3zSsZ"
      },
      "execution_count": null,
      "outputs": []
    },
    {
      "cell_type": "code",
      "source": [
        "\n",
        "def forecast_enrollment_beyond_2022(institution_name, enrollment_data, institution_df, forecast_periods):\n",
        "    \"\"\"\n",
        "    Forecast enrollment beyond 2022 for a specific institution.\n",
        "\n",
        "    Parameters:\n",
        "        institution_name (str): Name of the institution to forecast enrollment for.\n",
        "        enrollment_data (DataFrame): DataFrame containing enrollment data.\n",
        "        institution_df (DataFrame): DataFrame containing institution IDs and names.\n",
        "        forecast_periods (int): Number of periods to forecast enrollment for beyond 2022.\n",
        "\n",
        "    Returns:\n",
        "        None\n",
        "    \"\"\"\n",
        "    # Find the institution ID based on the institution name\n",
        "    institution_id = find_institution_id(institution_name, institution_df)\n",
        "\n",
        "    if institution_id is not None:\n",
        "        # Get data for the specified institution\n",
        "        institution_data = enrollment_data[enrollment_data['UNITID'] == institution_id].copy()\n",
        "\n",
        "        # Convert 'year' column to datetime format using .loc\n",
        "        institution_data.loc[:, 'YEAR'] = pd.to_datetime(institution_data['YEAR'].astype(str))\n",
        "\n",
        "        # Split data into train and test sets (using data up to 2022 for training)\n",
        "        train_years = institution_data['YEAR'].dt.year <= 2022\n",
        "        train_data = institution_data[train_years]\n",
        "\n",
        "        # Use auto_arima to auto select the optimal ARIMA model parameters\n",
        "        model = auto_arima(train_data['EFDEEXC'], seasonal=False, trace=True)\n",
        "\n",
        "        # Fit ARIMA model with the selected parameters on the training data\n",
        "        model_fit = model.fit(train_data['EFDEEXC'])\n",
        "\n",
        "        # Forecast enrollment for the specified number of periods beyond 2022\n",
        "        forecast_values = model_fit.predict(n_periods=forecast_periods)\n",
        "\n",
        "        # Create a date range for the forecasted periods\n",
        "        forecast_dates = pd.date_range(start='2023-01-01', periods=forecast_periods, freq='Y')\n",
        "\n",
        "        # Plot actual data (2018-2022) and forecasted data (2023-2026)\n",
        "        plt.plot(train_data['YEAR'], train_data['EFDEEXC'], label='Actual Data')\n",
        "        plt.plot(forecast_dates, forecast_values, label='Forecasted Data')\n",
        "        plt.xlabel('Year')\n",
        "        plt.ylabel('Enrollment')\n",
        "        plt.title(f'Enrollment Forecast for {institution_name}')\n",
        "        plt.legend()\n",
        "        plt.show()\n",
        "\n",
        "    else:\n",
        "        print(f\"No data found for institution '{institution_name}'.\")\n"
      ],
      "metadata": {
        "id": "IOG37im7sU9w"
      },
      "execution_count": 32,
      "outputs": []
    },
    {
      "cell_type": "code",
      "source": [
        "# Ask the user to input the institution name\n",
        "institution_name = input(\"Enter the name of the institution: \")\n",
        "enrollment_data = de_exc\n",
        "forecast_periods = 4\n",
        "forecast_enrollment_beyond_2022(institution_name, enrollment_data, institution_df, forecast_periods)"
      ],
      "metadata": {
        "id": "Wwv2bNkof-Sa",
        "colab": {
          "base_uri": "https://localhost:8080/",
          "height": 787
        },
        "outputId": "248a1483-377f-471a-8fa4-5fb1ba29d1ac"
      },
      "execution_count": 33,
      "outputs": [
        {
          "output_type": "stream",
          "name": "stdout",
          "text": [
            "Enter the name of the institution: Alabama A & M University\n",
            "Performing stepwise search to minimize aic\n",
            " ARIMA(1,0,1)(0,0,0)[0]             : AIC=161.742, Time=0.36 sec\n",
            " ARIMA(0,0,0)(0,0,0)[0]             : AIC=84.003, Time=0.04 sec\n",
            " ARIMA(1,0,0)(0,0,0)[0]             : AIC=85.579, Time=0.07 sec\n",
            " ARIMA(0,0,1)(0,0,0)[0]             : AIC=85.709, Time=0.59 sec\n",
            " ARIMA(0,0,0)(0,0,0)[0] intercept   : AIC=83.042, Time=0.05 sec\n",
            " ARIMA(1,0,0)(0,0,0)[0] intercept   : AIC=84.757, Time=0.08 sec\n",
            " ARIMA(0,0,1)(0,0,0)[0] intercept   : AIC=inf, Time=0.77 sec\n",
            " ARIMA(1,0,1)(0,0,0)[0] intercept   : AIC=inf, Time=0.43 sec\n",
            "\n",
            "Best model:  ARIMA(0,0,0)(0,0,0)[0] intercept\n",
            "Total fit time: 2.441 seconds\n"
          ]
        },
        {
          "output_type": "stream",
          "name": "stderr",
          "text": [
            "/usr/local/lib/python3.10/dist-packages/statsmodels/tsa/base/tsa_model.py:836: ValueWarning: No supported index is available. Prediction results will be given with an integer index beginning at `start`.\n",
            "  return get_prediction_index(\n",
            "/usr/local/lib/python3.10/dist-packages/statsmodels/tsa/base/tsa_model.py:836: FutureWarning: No supported index is available. In the next version, calling this method in a model without a supported index will result in an exception.\n",
            "  return get_prediction_index(\n"
          ]
        },
        {
          "output_type": "display_data",
          "data": {
            "text/plain": [
              "<Figure size 640x480 with 1 Axes>"
            ],
            "image/png": "[encoded data removed]"
          },
          "metadata": {}
        }
      ]
    },
    {
      "cell_type": "markdown",
      "source": [
        "#ARIMA - Adding exogenous variables"
      ],
      "metadata": {
        "id": "fdtZhB2pETDV"
      }
    },
    {
      "cell_type": "code",
      "source": [
        "de_exc_exog = filtered_de[['YEAR', 'EFDEEXC', 'EFDESOM', 'EFDENON']]\n",
        "\n",
        "de_exc_exog.loc[:, 'YEAR'] = pd.to_datetime(de_exc_exog['YEAR'].astype(str) + '-10-31')\n",
        "\n",
        "# # Aggregate the data by year\n",
        "aggregate_data2 = de_exc_exog.groupby('YEAR')[['EFDEEXC', 'EFDESOM', 'EFDENON']].sum()\n",
        "\n",
        "# # Reset the index to make 'YEAR' a regular column\n",
        "aggregate_data2 = aggregate_data2.reset_index()\n",
        "\n",
        "# # Convert 'YEAR' column back to datetime format\n",
        "# aggregate_data2['YEAR'] = pd.to_datetime(aggregate_data2['YEAR'], format='%Y')\n",
        "\n",
        "# # # Set 'YEAR' column as the index with annual frequency\n",
        "aggregate_data2.set_index('YEAR', inplace=True)\n",
        "aggregate_data2.index.freq = 'A-OCT'"
      ],
      "metadata": {
        "id": "5yF6jbkFEel3"
      },
      "execution_count": 95,
      "outputs": []
    },
    {
      "cell_type": "code",
      "source": [
        "\n",
        "\n",
        "# Split the data into training and testing sets\n",
        "train = aggregate_data2[aggregate_data2.index.year < 2022]\n",
        "test = aggregate_data2[aggregate_data2.index.year == 2022]\n",
        "\n",
        "# Use auto_arima to auto select the optimal ARIMA model parameters\n",
        "model = auto_arima(train['EFDEEXC'], exogenous=train[['EFDESOM', 'EFDENON']], seasonal=False, trace=True)\n",
        "\n",
        "# Fit ARIMA model with the selected parameters on the training data\n",
        "model_fit = model.fit(train['EFDEEXC'], exogenous=train[['EFDESOM', 'EFDENON']])\n",
        "\n",
        "\n",
        "# # Fit ARIMAX model\n",
        "# model = ARIMA(train['EFDEEXC'], order=(0,0,0), exog=train[['EFDESOM', 'EFDENON']])\n",
        "# model_fit = model.fit()\n",
        "\n",
        "# Make predictions\n",
        "prediction = model_fit.predict(steps=len(test), exog=test[['EFDESOM', 'EFDENON']])[0]\n",
        "# print(prediction)\n",
        "\n",
        "\n",
        "# Create a bar plot\n",
        "plt.bar(['Actual', 'Predicted'], [test['EFDEEXC'].values[0], prediction])\n",
        "plt.xlabel('Year')\n",
        "plt.ylabel('EFDEEXC')\n",
        "plt.title('Actual vs. Predicted for 2022')\n",
        "# Remove scientific notation from y-axis\n",
        "plt.ticklabel_format(style='plain', axis='y')\n",
        "plt.show()\n",
        "\n",
        "# Actual value for 2022\n",
        "actual = test['EFDEEXC'].values[0]\n",
        "\n",
        "# Calculate MAE\n",
        "mae = mean_absolute_error([actual], [prediction])\n",
        "\n",
        "# Calculate MSE\n",
        "mse = mean_squared_error([actual], [prediction])\n",
        "\n",
        "# Calculate RMSE\n",
        "rmse = np.sqrt(mse)\n",
        "\n",
        "print(\"MAE:\", mae)\n",
        "print(\"MSE:\", mse)\n",
        "print(\"RMSE:\", rmse)"
      ],
      "metadata": {
        "colab": {
          "base_uri": "https://localhost:8080/",
          "height": 732
        },
        "id": "7OnLoBQPFcUp",
        "outputId": "c801f0bf-9bef-4e20-b095-47e490bd7dfd"
      },
      "execution_count": 111,
      "outputs": [
        {
          "output_type": "stream",
          "name": "stdout",
          "text": [
            "Performing stepwise search to minimize aic\n",
            " ARIMA(1,0,1)(0,0,0)[0]             : AIC=inf, Time=0.25 sec\n",
            " ARIMA(0,0,0)(0,0,0)[0]             : AIC=137.704, Time=0.03 sec\n",
            " ARIMA(1,0,0)(0,0,0)[0]             : AIC=136.191, Time=0.05 sec\n",
            " ARIMA(0,0,1)(0,0,0)[0]             : AIC=inf, Time=0.12 sec\n",
            " ARIMA(1,0,0)(0,0,0)[0] intercept   : AIC=134.172, Time=0.05 sec\n",
            " ARIMA(0,0,0)(0,0,0)[0] intercept   : AIC=132.142, Time=0.01 sec\n",
            " ARIMA(0,0,1)(0,0,0)[0] intercept   : AIC=133.952, Time=0.05 sec\n",
            " ARIMA(1,0,1)(0,0,0)[0] intercept   : AIC=inf, Time=0.66 sec\n",
            "\n",
            "Best model:  ARIMA(0,0,0)(0,0,0)[0] intercept\n",
            "Total fit time: 1.281 seconds\n"
          ]
        },
        {
          "output_type": "display_data",
          "data": {
            "text/plain": [
              "<Figure size 640x480 with 1 Axes>"
            ],
            "image/png": "[encoded data removed]"
          },
          "metadata": {}
        },
        {
          "output_type": "stream",
          "name": "stdout",
          "text": [
            "MAE: 291382.25\n",
            "MSE: 84903615615.0625\n",
            "RMSE: 291382.25\n"
          ]
        }
      ]
    }
  ]
}